{
 "cells": [
  {
   "cell_type": "markdown",
   "metadata": {},
   "source": [
    "## DANDP2\n",
    "\n",
    "####  Data Analyst Nanodegree\n",
    "\n",
    "#### Anna Signor"
   ]
  },
  
 
  {
   "cell_type": "markdown",
   "metadata": {},
   "source": [
    "<img src='https://upload.wikimedia.org/wikipedia/commons/thumb/b/b8/Cd51-1000g.gif/1920px-Cd51-1000g.gif'>"
   ]
  },
  {
   "cell_type": "markdown",
   "metadata": {},
   "source": [
    "### Introduction"
   ]
  },
  {
   "cell_type": "markdown",
   "metadata": {},
   "source": [
    "This project will delineate a preliminary analysis of some data regarding the Titanic disaster. Data on 714 of the 2224 passengers aboard the vessel were examined. The project has no requirement to reach conclusions with scientific rigor, taking on instead the form of heuristic exploration, although at least one test will be performed.\n",
    "The Titanic data set is very famous and many different works were published exploring it. The questions explored here will revolve around the theme of children in the Titanic. For the purposes of this text, children will be defined as individuals younger than fourteen years old. Since the remainder is not exactly what one would call \"adult\", they will be referred to as \"non-children\". "
   ]
  },
  {
   "cell_type": "markdown",
   "metadata": {},
   "source": [
    "<img src='csv_image.jpeg'>"
   ]
  },
  {
   "cell_type": "markdown",
   "metadata": {},
   "source": [
    "### Data"
   ]
  },
  {
   "cell_type": "markdown",
   "metadata": {},
   "source": [
    "A .csv file was provided containing the data, as shown in the image above. Preliminary investigation of the file shows that it contains, for the 891 passengers, some demographic information as well as data on the traveling itself, such as fare, ticket, cabin and others. It seems like a good way to proceed is to read it into a pandas dataframe to allow for relevant and efficient processing, calculations and visualizations. The table description that was povided is reproduced below."
   ]
  },
  {
   "cell_type": "markdown",
   "metadata": {},
   "source": [
    "### \"\n",
    "VARIABLE DESCRIPTIONS:\n",
    "\n",
    "\n",
    "survival        Survival\n",
    "                (0 = No; 1 = Yes)\n",
    "                \n",
    "                \n",
    "pclass          Passenger Class\n",
    "                (1 = 1st; 2 = 2nd; 3 = 3rd)\n",
    "                \n",
    "                \n",
    "name            Name\n",
    "\n",
    "\n",
    "sex             Sex\n",
    "\n",
    "\n",
    "age             Age\n",
    "\n",
    "\n",
    "sibsp           Number of Siblings/Spouses Aboard\n",
    "\n",
    "\n",
    "parch           Number of Parents/Children Aboard\n",
    "\n",
    "\n",
    "ticket          Ticket Number\n",
    "\n",
    "\n",
    "fare            Passenger Fare\n",
    "\n",
    "\n",
    "cabin           Cabin\n",
    "\n",
    "\n",
    "embarked        Port of Embarkation\n",
    "                (C = Cherbourg; Q = Queenstown; S = Southampton)\n",
    "                \n",
    "                \n",
    "\n",
    "SPECIAL NOTES:\n",
    "Pclass is a proxy for socio-economic status (SES)\n",
    " 1st ~ Upper; 2nd ~ Middle; 3rd ~ Lower\n",
    "\n",
    "Age is in Years; Fractional if Age less than One (1)\n",
    " If the Age is Estimated, it is in the form xx.5\n",
    "\n",
    "With respect to the family relation variables (i.e. sibsp and parch)\n",
    "some relations were ignored.  The following are the definitions used\n",
    "for sibsp and parch.\n",
    "\n",
    "Sibling:  Brother, Sister, Stepbrother, or Stepsister of Passenger Aboard Titanic\n",
    "Spouse:   Husband or Wife of Passenger Aboard Titanic (Mistresses and Fiances Ignored)\n",
    "Parent:   Mother or Father of Passenger Aboard Titanic\n",
    "Child:    Son, Daughter, Stepson, or Stepdaughter of Passenger Aboard Titanic\n",
    "\n",
    "Other family relatives excluded from this study include cousins,\n",
    "nephews/nieces, aunts/uncles, and in-laws.  Some children travelled\n",
    "only with a nanny, therefore parch=0 for them.  As well, some\n",
    "travelled with very close friends or neighbors in a village, however,\n",
    "the definitions do not support such relations.\n",
    "\n",
    "### \""
   ]
  },
  {
   "cell_type": "code",
   "execution_count": 1,
   "metadata": {
    "collapsed": false
   },
   "outputs": [],
   "source": [
    "##import matplotlib, pandas, seaborn, numpy\n",
    "%matplotlib inline\n",
    "import pandas as pd\n",
    "import csv\n",
    "import matplotlib.pyplot as plot\n",
    "import seaborn as sns\n",
    "import numpy as np"
   ]
  },
  {
   "cell_type": "code",
   "execution_count": 2,
   "metadata": {
    "collapsed": false
   },
   "outputs": [],
   "source": [
    "# read csv file into pandas dataframe\n",
    "filename = r'C:/Udacity/DANDP2/titanic_data.csv'\n",
    "titanic_df = pd.read_csv(filename)"
   ]
  },
  {
   "cell_type": "markdown",
   "metadata": {},
   "source": [
    "### Questions"
   ]
  },
  {
   "cell_type": "markdown",
   "metadata": {},
   "source": [
    "**1. What percentage of the sample were children?**\n",
    "    \n",
    "   Natural descriptive question to ask.\n",
    "    \n",
    "\n",
    "**2.Did children have higher chances of survival comparing with non-children?**   \n",
    "    \n",
    "   One would expect to see a lower fatality rate among children before any exposure to real data, for the simple fact that children are supposed to have priority in any type of disaster rescue effort.\n",
    "    \n",
    "**3.How were they distributed in terms of class and gender?**\n",
    "    \n",
    "   This is a descriptive question that will be a necessary consideration before moving on to the next question.\n",
    "\n",
    "**4.Among children, was gender correlated to fatality rates?**\n",
    "    \n",
    "   This is perhaps the most interesting question. In a certain sense, the expectation is for gender to not have a perceivable effect on fatality rates in children. The reason for that is in disaster rescues of any kind, women and children are supposed to be given priority as a general guideline. Because the frasing \"children\" does not consider gender, one would expect to find data supporting the narrative that children of both genders were given equal priority into the life saving boats. \n",
    "   \n",
    "**5.Is the (now famous) correlation between passenger class and survival observed in the children subset?**\n",
    "    \n",
    "Just like with question 4, in a sense one could expect to see data supporting an indepence between the two variables, since the frase \"women and children first\" does not mention any class division. As will be shown in this text, this proves to be a very naive expectation."
   ]
  },
  {
   "cell_type": "markdown",
   "metadata": {},
   "source": [
    "### Checking Data Integrity\n",
    "\n",
    "It is important to check for missing or corrupted values and make determinations as to how to fix them how this affects the results. I noticed, for example, there are multiple NaNs for cabin numbers, and that the ticketing seems to have some kind of internal logic to the strings that form them, which are of yet, unknown. This work will not concern itself with such issues, since the present investigation does not rely on any of that data. Additionally, the fares maximum and minimums seemed strange, however a parallel investigation, not shown here, indicated the data is correct. \n",
    "What will be seen below, and will be of concern is the fact that some of the ages seem to be missing."
   ]
  },
  {
   "cell_type": "code",
   "execution_count": 3,
   "metadata": {
    "collapsed": false
   },
   "outputs": [
    {
     "name": "stdout",
     "output_type": "stream",
     "text": [
      "<class 'pandas.core.frame.DataFrame'>\n",
      "Int64Index: 891 entries, 0 to 890\n",
      "Data columns (total 12 columns):\n",
      "PassengerId    891 non-null int64\n",
      "Survived       891 non-null int64\n",
      "Pclass         891 non-null int64\n",
      "Name           891 non-null object\n",
      "Sex            891 non-null object\n",
      "Age            714 non-null float64\n",
      "SibSp          891 non-null int64\n",
      "Parch          891 non-null int64\n",
      "Ticket         891 non-null object\n",
      "Fare           891 non-null float64\n",
      "Cabin          204 non-null object\n",
      "Embarked       889 non-null object\n",
      "dtypes: float64(2), int64(5), object(5)\n",
      "memory usage: 90.5+ KB\n"
     ]
    }
   ],
   "source": [
    "#check for missing or corrupted values\n",
    "titanic_df.info()"
   ]
  },
  {
   "cell_type": "code",
   "execution_count": 4,
   "metadata": {
    "collapsed": false
   },
   "outputs": [
    {
     "data": {
      "text/html": [
       "<div>\n",
       "<table border=\"1\" class=\"dataframe\">\n",
       "  <thead>\n",
       "    <tr style=\"text-align: right;\">\n",
       "      <th></th>\n",
       "      <th>PassengerId</th>\n",
       "      <th>Survived</th>\n",
       "      <th>Pclass</th>\n",
       "      <th>Age</th>\n",
       "      <th>SibSp</th>\n",
       "      <th>Parch</th>\n",
       "      <th>Fare</th>\n",
       "    </tr>\n",
       "  </thead>\n",
       "  <tbody>\n",
       "    <tr>\n",
       "      <th>count</th>\n",
       "      <td>891.000000</td>\n",
       "      <td>891.000000</td>\n",
       "      <td>891.000000</td>\n",
       "      <td>714.000000</td>\n",
       "      <td>891.000000</td>\n",
       "      <td>891.000000</td>\n",
       "      <td>891.000000</td>\n",
       "    </tr>\n",
       "    <tr>\n",
       "      <th>mean</th>\n",
       "      <td>446.000000</td>\n",
       "      <td>0.383838</td>\n",
       "      <td>2.308642</td>\n",
       "      <td>29.699118</td>\n",
       "      <td>0.523008</td>\n",
       "      <td>0.381594</td>\n",
       "      <td>32.204208</td>\n",
       "    </tr>\n",
       "    <tr>\n",
       "      <th>std</th>\n",
       "      <td>257.353842</td>\n",
       "      <td>0.486592</td>\n",
       "      <td>0.836071</td>\n",
       "      <td>14.526497</td>\n",
       "      <td>1.102743</td>\n",
       "      <td>0.806057</td>\n",
       "      <td>49.693429</td>\n",
       "    </tr>\n",
       "    <tr>\n",
       "      <th>min</th>\n",
       "      <td>1.000000</td>\n",
       "      <td>0.000000</td>\n",
       "      <td>1.000000</td>\n",
       "      <td>0.420000</td>\n",
       "      <td>0.000000</td>\n",
       "      <td>0.000000</td>\n",
       "      <td>0.000000</td>\n",
       "    </tr>\n",
       "    <tr>\n",
       "      <th>25%</th>\n",
       "      <td>223.500000</td>\n",
       "      <td>0.000000</td>\n",
       "      <td>2.000000</td>\n",
       "      <td>20.125000</td>\n",
       "      <td>0.000000</td>\n",
       "      <td>0.000000</td>\n",
       "      <td>7.910400</td>\n",
       "    </tr>\n",
       "    <tr>\n",
       "      <th>50%</th>\n",
       "      <td>446.000000</td>\n",
       "      <td>0.000000</td>\n",
       "      <td>3.000000</td>\n",
       "      <td>28.000000</td>\n",
       "      <td>0.000000</td>\n",
       "      <td>0.000000</td>\n",
       "      <td>14.454200</td>\n",
       "    </tr>\n",
       "    <tr>\n",
       "      <th>75%</th>\n",
       "      <td>668.500000</td>\n",
       "      <td>1.000000</td>\n",
       "      <td>3.000000</td>\n",
       "      <td>38.000000</td>\n",
       "      <td>1.000000</td>\n",
       "      <td>0.000000</td>\n",
       "      <td>31.000000</td>\n",
       "    </tr>\n",
       "    <tr>\n",
       "      <th>max</th>\n",
       "      <td>891.000000</td>\n",
       "      <td>1.000000</td>\n",
       "      <td>3.000000</td>\n",
       "      <td>80.000000</td>\n",
       "      <td>8.000000</td>\n",
       "      <td>6.000000</td>\n",
       "      <td>512.329200</td>\n",
       "    </tr>\n",
       "  </tbody>\n",
       "</table>\n",
       "</div>"
      ],
      "text/plain": [
       "       PassengerId    Survived      Pclass         Age       SibSp  \\\n",
       "count   891.000000  891.000000  891.000000  714.000000  891.000000   \n",
       "mean    446.000000    0.383838    2.308642   29.699118    0.523008   \n",
       "std     257.353842    0.486592    0.836071   14.526497    1.102743   \n",
       "min       1.000000    0.000000    1.000000    0.420000    0.000000   \n",
       "25%     223.500000    0.000000    2.000000   20.125000    0.000000   \n",
       "50%     446.000000    0.000000    3.000000   28.000000    0.000000   \n",
       "75%     668.500000    1.000000    3.000000   38.000000    1.000000   \n",
       "max     891.000000    1.000000    3.000000   80.000000    8.000000   \n",
       "\n",
       "            Parch        Fare  \n",
       "count  891.000000  891.000000  \n",
       "mean     0.381594   32.204208  \n",
       "std      0.806057   49.693429  \n",
       "min      0.000000    0.000000  \n",
       "25%      0.000000    7.910400  \n",
       "50%      0.000000   14.454200  \n",
       "75%      0.000000   31.000000  \n",
       "max      6.000000  512.329200  "
      ]
     },
     "execution_count": 4,
     "metadata": {},
     "output_type": "execute_result"
    }
   ],
   "source": [
    "#check for missing or corrupted values\n",
    "titanic_df.describe()"
   ]
  },
  {
   "cell_type": "code",
   "execution_count": 5,
   "metadata": {
    "collapsed": false
   },
   "outputs": [
    {
     "data": {
      "text/plain": [
       "177"
      ]
     },
     "execution_count": 5,
     "metadata": {},
     "output_type": "execute_result"
    }
   ],
   "source": [
    "#what is happening with the ages?\n",
    "titanic_df[titanic_df['Age'].isnull()]['PassengerId'].count()"
   ]
  },
  {
   "cell_type": "markdown",
   "metadata": {},
   "source": [
    "There are 117 records with missing ages. "
   ]
  },
  {
   "cell_type": "code",
   "execution_count": 6,
   "metadata": {
    "collapsed": false
   },
   "outputs": [
    {
     "data": {
      "text/html": [
       "<div>\n",
       "<table border=\"1\" class=\"dataframe\">\n",
       "  <thead>\n",
       "    <tr style=\"text-align: right;\">\n",
       "      <th></th>\n",
       "      <th>PassengerId</th>\n",
       "      <th>Survived</th>\n",
       "      <th>Pclass</th>\n",
       "      <th>Name</th>\n",
       "      <th>Sex</th>\n",
       "      <th>Age</th>\n",
       "      <th>SibSp</th>\n",
       "      <th>Parch</th>\n",
       "      <th>Ticket</th>\n",
       "      <th>Fare</th>\n",
       "      <th>Cabin</th>\n",
       "      <th>Embarked</th>\n",
       "    </tr>\n",
       "  </thead>\n",
       "  <tbody>\n",
       "    <tr>\n",
       "      <th>5</th>\n",
       "      <td>6</td>\n",
       "      <td>0</td>\n",
       "      <td>3</td>\n",
       "      <td>Moran, Mr. James</td>\n",
       "      <td>male</td>\n",
       "      <td>NaN</td>\n",
       "      <td>0</td>\n",
       "      <td>0</td>\n",
       "      <td>330877</td>\n",
       "      <td>8.4583</td>\n",
       "      <td>NaN</td>\n",
       "      <td>Q</td>\n",
       "    </tr>\n",
       "    <tr>\n",
       "      <th>17</th>\n",
       "      <td>18</td>\n",
       "      <td>1</td>\n",
       "      <td>2</td>\n",
       "      <td>Williams, Mr. Charles Eugene</td>\n",
       "      <td>male</td>\n",
       "      <td>NaN</td>\n",
       "      <td>0</td>\n",
       "      <td>0</td>\n",
       "      <td>244373</td>\n",
       "      <td>13.0000</td>\n",
       "      <td>NaN</td>\n",
       "      <td>S</td>\n",
       "    </tr>\n",
       "    <tr>\n",
       "      <th>19</th>\n",
       "      <td>20</td>\n",
       "      <td>1</td>\n",
       "      <td>3</td>\n",
       "      <td>Masselmani, Mrs. Fatima</td>\n",
       "      <td>female</td>\n",
       "      <td>NaN</td>\n",
       "      <td>0</td>\n",
       "      <td>0</td>\n",
       "      <td>2649</td>\n",
       "      <td>7.2250</td>\n",
       "      <td>NaN</td>\n",
       "      <td>C</td>\n",
       "    </tr>\n",
       "    <tr>\n",
       "      <th>26</th>\n",
       "      <td>27</td>\n",
       "      <td>0</td>\n",
       "      <td>3</td>\n",
       "      <td>Emir, Mr. Farred Chehab</td>\n",
       "      <td>male</td>\n",
       "      <td>NaN</td>\n",
       "      <td>0</td>\n",
       "      <td>0</td>\n",
       "      <td>2631</td>\n",
       "      <td>7.2250</td>\n",
       "      <td>NaN</td>\n",
       "      <td>C</td>\n",
       "    </tr>\n",
       "    <tr>\n",
       "      <th>28</th>\n",
       "      <td>29</td>\n",
       "      <td>1</td>\n",
       "      <td>3</td>\n",
       "      <td>O'Dwyer, Miss. Ellen \"Nellie\"</td>\n",
       "      <td>female</td>\n",
       "      <td>NaN</td>\n",
       "      <td>0</td>\n",
       "      <td>0</td>\n",
       "      <td>330959</td>\n",
       "      <td>7.8792</td>\n",
       "      <td>NaN</td>\n",
       "      <td>Q</td>\n",
       "    </tr>\n",
       "    <tr>\n",
       "      <th>29</th>\n",
       "      <td>30</td>\n",
       "      <td>0</td>\n",
       "      <td>3</td>\n",
       "      <td>Todoroff, Mr. Lalio</td>\n",
       "      <td>male</td>\n",
       "      <td>NaN</td>\n",
       "      <td>0</td>\n",
       "      <td>0</td>\n",
       "      <td>349216</td>\n",
       "      <td>7.8958</td>\n",
       "      <td>NaN</td>\n",
       "      <td>S</td>\n",
       "    </tr>\n",
       "    <tr>\n",
       "      <th>31</th>\n",
       "      <td>32</td>\n",
       "      <td>1</td>\n",
       "      <td>1</td>\n",
       "      <td>Spencer, Mrs. William Augustus (Marie Eugenie)</td>\n",
       "      <td>female</td>\n",
       "      <td>NaN</td>\n",
       "      <td>1</td>\n",
       "      <td>0</td>\n",
       "      <td>PC 17569</td>\n",
       "      <td>146.5208</td>\n",
       "      <td>B78</td>\n",
       "      <td>C</td>\n",
       "    </tr>\n",
       "    <tr>\n",
       "      <th>32</th>\n",
       "      <td>33</td>\n",
       "      <td>1</td>\n",
       "      <td>3</td>\n",
       "      <td>Glynn, Miss. Mary Agatha</td>\n",
       "      <td>female</td>\n",
       "      <td>NaN</td>\n",
       "      <td>0</td>\n",
       "      <td>0</td>\n",
       "      <td>335677</td>\n",
       "      <td>7.7500</td>\n",
       "      <td>NaN</td>\n",
       "      <td>Q</td>\n",
       "    </tr>\n",
       "    <tr>\n",
       "      <th>36</th>\n",
       "      <td>37</td>\n",
       "      <td>1</td>\n",
       "      <td>3</td>\n",
       "      <td>Mamee, Mr. Hanna</td>\n",
       "      <td>male</td>\n",
       "      <td>NaN</td>\n",
       "      <td>0</td>\n",
       "      <td>0</td>\n",
       "      <td>2677</td>\n",
       "      <td>7.2292</td>\n",
       "      <td>NaN</td>\n",
       "      <td>C</td>\n",
       "    </tr>\n",
       "    <tr>\n",
       "      <th>42</th>\n",
       "      <td>43</td>\n",
       "      <td>0</td>\n",
       "      <td>3</td>\n",
       "      <td>Kraeff, Mr. Theodor</td>\n",
       "      <td>male</td>\n",
       "      <td>NaN</td>\n",
       "      <td>0</td>\n",
       "      <td>0</td>\n",
       "      <td>349253</td>\n",
       "      <td>7.8958</td>\n",
       "      <td>NaN</td>\n",
       "      <td>C</td>\n",
       "    </tr>\n",
       "  </tbody>\n",
       "</table>\n",
       "</div>"
      ],
      "text/plain": [
       "    PassengerId  Survived  Pclass  \\\n",
       "5             6         0       3   \n",
       "17           18         1       2   \n",
       "19           20         1       3   \n",
       "26           27         0       3   \n",
       "28           29         1       3   \n",
       "29           30         0       3   \n",
       "31           32         1       1   \n",
       "32           33         1       3   \n",
       "36           37         1       3   \n",
       "42           43         0       3   \n",
       "\n",
       "                                              Name     Sex  Age  SibSp  Parch  \\\n",
       "5                                 Moran, Mr. James    male  NaN      0      0   \n",
       "17                    Williams, Mr. Charles Eugene    male  NaN      0      0   \n",
       "19                         Masselmani, Mrs. Fatima  female  NaN      0      0   \n",
       "26                         Emir, Mr. Farred Chehab    male  NaN      0      0   \n",
       "28                   O'Dwyer, Miss. Ellen \"Nellie\"  female  NaN      0      0   \n",
       "29                             Todoroff, Mr. Lalio    male  NaN      0      0   \n",
       "31  Spencer, Mrs. William Augustus (Marie Eugenie)  female  NaN      1      0   \n",
       "32                        Glynn, Miss. Mary Agatha  female  NaN      0      0   \n",
       "36                                Mamee, Mr. Hanna    male  NaN      0      0   \n",
       "42                             Kraeff, Mr. Theodor    male  NaN      0      0   \n",
       "\n",
       "      Ticket      Fare Cabin Embarked  \n",
       "5     330877    8.4583   NaN        Q  \n",
       "17    244373   13.0000   NaN        S  \n",
       "19      2649    7.2250   NaN        C  \n",
       "26      2631    7.2250   NaN        C  \n",
       "28    330959    7.8792   NaN        Q  \n",
       "29    349216    7.8958   NaN        S  \n",
       "31  PC 17569  146.5208   B78        C  \n",
       "32    335677    7.7500   NaN        Q  \n",
       "36      2677    7.2292   NaN        C  \n",
       "42    349253    7.8958   NaN        C  "
      ]
     },
     "execution_count": 6,
     "metadata": {},
     "output_type": "execute_result"
    }
   ],
   "source": [
    "#take a look at some of the rows\n",
    "titanic_df[titanic_df['Age'].isnull()].iloc[:10]"
   ]
  },
  {
   "cell_type": "code",
   "execution_count": 7,
   "metadata": {
    "collapsed": false
   },
   "outputs": [
    {
     "data": {
      "text/html": [
       "<div>\n",
       "<table border=\"1\" class=\"dataframe\">\n",
       "  <thead>\n",
       "    <tr style=\"text-align: right;\">\n",
       "      <th></th>\n",
       "      <th>PassengerId</th>\n",
       "      <th>Survived</th>\n",
       "      <th>Pclass</th>\n",
       "      <th>Age</th>\n",
       "      <th>SibSp</th>\n",
       "      <th>Parch</th>\n",
       "      <th>Fare</th>\n",
       "    </tr>\n",
       "  </thead>\n",
       "  <tbody>\n",
       "    <tr>\n",
       "      <th>count</th>\n",
       "      <td>177.000000</td>\n",
       "      <td>177.000000</td>\n",
       "      <td>177.000000</td>\n",
       "      <td>0</td>\n",
       "      <td>177.000000</td>\n",
       "      <td>177.000000</td>\n",
       "      <td>177.000000</td>\n",
       "    </tr>\n",
       "    <tr>\n",
       "      <th>mean</th>\n",
       "      <td>435.581921</td>\n",
       "      <td>0.293785</td>\n",
       "      <td>2.598870</td>\n",
       "      <td>NaN</td>\n",
       "      <td>0.564972</td>\n",
       "      <td>0.180791</td>\n",
       "      <td>22.158567</td>\n",
       "    </tr>\n",
       "    <tr>\n",
       "      <th>std</th>\n",
       "      <td>250.552901</td>\n",
       "      <td>0.456787</td>\n",
       "      <td>0.763216</td>\n",
       "      <td>NaN</td>\n",
       "      <td>1.626316</td>\n",
       "      <td>0.534145</td>\n",
       "      <td>31.874608</td>\n",
       "    </tr>\n",
       "    <tr>\n",
       "      <th>min</th>\n",
       "      <td>6.000000</td>\n",
       "      <td>0.000000</td>\n",
       "      <td>1.000000</td>\n",
       "      <td>NaN</td>\n",
       "      <td>0.000000</td>\n",
       "      <td>0.000000</td>\n",
       "      <td>0.000000</td>\n",
       "    </tr>\n",
       "    <tr>\n",
       "      <th>25%</th>\n",
       "      <td>230.000000</td>\n",
       "      <td>0.000000</td>\n",
       "      <td>3.000000</td>\n",
       "      <td>NaN</td>\n",
       "      <td>0.000000</td>\n",
       "      <td>0.000000</td>\n",
       "      <td>7.750000</td>\n",
       "    </tr>\n",
       "    <tr>\n",
       "      <th>50%</th>\n",
       "      <td>452.000000</td>\n",
       "      <td>0.000000</td>\n",
       "      <td>3.000000</td>\n",
       "      <td>NaN</td>\n",
       "      <td>0.000000</td>\n",
       "      <td>0.000000</td>\n",
       "      <td>8.050000</td>\n",
       "    </tr>\n",
       "    <tr>\n",
       "      <th>75%</th>\n",
       "      <td>634.000000</td>\n",
       "      <td>1.000000</td>\n",
       "      <td>3.000000</td>\n",
       "      <td>NaN</td>\n",
       "      <td>0.000000</td>\n",
       "      <td>0.000000</td>\n",
       "      <td>24.150000</td>\n",
       "    </tr>\n",
       "    <tr>\n",
       "      <th>max</th>\n",
       "      <td>889.000000</td>\n",
       "      <td>1.000000</td>\n",
       "      <td>3.000000</td>\n",
       "      <td>NaN</td>\n",
       "      <td>8.000000</td>\n",
       "      <td>2.000000</td>\n",
       "      <td>227.525000</td>\n",
       "    </tr>\n",
       "  </tbody>\n",
       "</table>\n",
       "</div>"
      ],
      "text/plain": [
       "       PassengerId    Survived      Pclass  Age       SibSp       Parch  \\\n",
       "count   177.000000  177.000000  177.000000    0  177.000000  177.000000   \n",
       "mean    435.581921    0.293785    2.598870  NaN    0.564972    0.180791   \n",
       "std     250.552901    0.456787    0.763216  NaN    1.626316    0.534145   \n",
       "min       6.000000    0.000000    1.000000  NaN    0.000000    0.000000   \n",
       "25%     230.000000    0.000000    3.000000  NaN    0.000000    0.000000   \n",
       "50%     452.000000    0.000000    3.000000  NaN    0.000000    0.000000   \n",
       "75%     634.000000    1.000000    3.000000  NaN    0.000000    0.000000   \n",
       "max     889.000000    1.000000    3.000000  NaN    8.000000    2.000000   \n",
       "\n",
       "             Fare  \n",
       "count  177.000000  \n",
       "mean    22.158567  \n",
       "std     31.874608  \n",
       "min      0.000000  \n",
       "25%      7.750000  \n",
       "50%      8.050000  \n",
       "75%     24.150000  \n",
       "max    227.525000  "
      ]
     },
     "execution_count": 7,
     "metadata": {},
     "output_type": "execute_result"
    }
   ],
   "source": [
    "titanic_df[titanic_df['Age'].isnull()].describe()"
   ]
  },
  {
   "cell_type": "markdown",
   "metadata": {},
   "source": [
    "The description above shows important informatio concerning the subset of data whith missing values for 'Age'. Since all the questions involve 'Age', the rows with missing values for this column are being removed, thus this part of the data will be ignored. This weakens any results produced by this analysis, however it does not invalidade them."
   ]
  },
  {
   "cell_type": "code",
   "execution_count": 8,
   "metadata": {
    "collapsed": false
   },
   "outputs": [
    {
     "name": "stdout",
     "output_type": "stream",
     "text": [
      "<class 'pandas.core.frame.DataFrame'>\n",
      "Int64Index: 714 entries, 0 to 890\n",
      "Data columns (total 12 columns):\n",
      "PassengerId    714 non-null int64\n",
      "Survived       714 non-null int64\n",
      "Pclass         714 non-null int64\n",
      "Name           714 non-null object\n",
      "Sex            714 non-null object\n",
      "Age            714 non-null float64\n",
      "SibSp          714 non-null int64\n",
      "Parch          714 non-null int64\n",
      "Ticket         714 non-null object\n",
      "Fare           714 non-null float64\n",
      "Cabin          185 non-null object\n",
      "Embarked       712 non-null object\n",
      "dtypes: float64(2), int64(5), object(5)\n",
      "memory usage: 72.5+ KB\n"
     ]
    }
   ],
   "source": [
    "#filter out rowns where 'Age' is missing\n",
    "titanic_df = titanic_df[titanic_df['Age'].notnull()]\n",
    "\n",
    "#did it work?\n",
    "titanic_df.info()"
   ]
  },
  {
   "cell_type": "markdown",
   "metadata": {},
   "source": [
    "The table contains 714 rows now, with all values in 'Age', as well as the other columns that will be considered, containing non-null values. An assumption will be made that the sample of 714 remains a random sample of the population, to allow for calculations of statistical tests to take place."
   ]
  },
  {
   "cell_type": "markdown",
   "metadata": {},
   "source": [
    "### Preliminary Data Treatment\n",
    "\n",
    "Some variable types can be modified for better understanding, to avoid the need to repeatedly consult the description. The \"Survived\" column will contain booleans and the \"Embarked\" will contain the full names of the ports. Also, the names of the passengers will be hidden. \n",
    "Since data on children will be analysed, a column called \"Child\" will be be created containing boolean variables, with truth values for the individuals satisfying the present definition of child and false otherwise."
   ]
  },
  {
   "cell_type": "code",
   "execution_count": 9,
   "metadata": {
    "collapsed": false
   },
   "outputs": [],
   "source": [
    "# look at first 5 rows of table\n",
    "#titanic_df.iloc[:5]\n",
    "# I used this piece of code repeatedly to see if my data corrections were functioning. They are all commented out for a clean look"
   ]
  },
  {
   "cell_type": "code",
   "execution_count": 10,
   "metadata": {
    "collapsed": false
   },
   "outputs": [],
   "source": [
    "#save the names in a copy of the 'Name\" series\n",
    "name_series = titanic_df['Name'].copy()\n",
    "\n",
    "#define a function to 'overwrite'\n",
    "def write_over(name):\n",
    "    name = 'name is hidden'\n",
    "    return name\n",
    "\n",
    "#overwrite the whole series using .apply\n",
    "titanic_df['Name'] = titanic_df['Name'].apply(write_over)"
   ]
  },
  {
   "cell_type": "markdown",
   "metadata": {},
   "source": [
    "Please observe that the names are stored with the same index as the rest of the data. Therefore, if for nay reason should I want to access it, the information is available. "
   ]
  },
  {
   "cell_type": "code",
   "execution_count": 11,
   "metadata": {
    "collapsed": false
   },
   "outputs": [],
   "source": [
    "### un-comment below to see test\n",
    "#titanic_df.iloc[:5]"
   ]
  },
  {
   "cell_type": "code",
   "execution_count": 12,
   "metadata": {
    "collapsed": false
   },
   "outputs": [],
   "source": [
    "# create a function to fix the port names\n",
    "initials_dic = {'C':'Cherbourg', 'Q':'Queenstown', 'S':'Southampton'}\n",
    "def port_name(initial):\n",
    "    if initial not in initials_dic:\n",
    "        return initial\n",
    "    else:\n",
    "        return initials_dic[initial]"
   ]
  },
  {
   "cell_type": "code",
   "execution_count": 13,
   "metadata": {
    "collapsed": false
   },
   "outputs": [],
   "source": [
    "#change all port names using .apply\n",
    "titanic_df['Embarked'] = titanic_df['Embarked'].apply(port_name)"
   ]
  },
  {
   "cell_type": "code",
   "execution_count": 14,
   "metadata": {
    "collapsed": false
   },
   "outputs": [],
   "source": [
    "### un-comment below to see test\n",
    "# titanic_df.iloc[:5]"
   ]
  },
  {
   "cell_type": "code",
   "execution_count": 15,
   "metadata": {
    "collapsed": false
   },
   "outputs": [],
   "source": [
    "# parse survival records as boolean values\n",
    "titanic_df['Survived'] = titanic_df['Survived'].apply(bool)"
   ]
  },
  {
   "cell_type": "code",
   "execution_count": 16,
   "metadata": {
    "collapsed": false
   },
   "outputs": [],
   "source": [
    "### un-comment below to see test\n",
    "# titanic_df.iloc[:5]"
   ]
  },
  {
   "cell_type": "code",
   "execution_count": 17,
   "metadata": {
    "collapsed": false
   },
   "outputs": [],
   "source": [
    "# Create a new column that informs weather or not the passenger is a child\n",
    "titanic_df.loc[:,'Child'] = pd.Series(titanic_df['Age']<14)\n",
    "#titanic_df.iloc[:5]"
   ]
  },
  {
   "cell_type": "code",
   "execution_count": 18,
   "metadata": {
    "collapsed": false
   },
   "outputs": [
    {
     "data": {
      "text/html": [
       "<div>\n",
       "<table border=\"1\" class=\"dataframe\">\n",
       "  <thead>\n",
       "    <tr style=\"text-align: right;\">\n",
       "      <th></th>\n",
       "      <th>PassengerId</th>\n",
       "      <th>Survived</th>\n",
       "      <th>Pclass</th>\n",
       "      <th>Name</th>\n",
       "      <th>Sex</th>\n",
       "      <th>Age</th>\n",
       "      <th>SibSp</th>\n",
       "      <th>Parch</th>\n",
       "      <th>Ticket</th>\n",
       "      <th>Fare</th>\n",
       "      <th>Cabin</th>\n",
       "      <th>Embarked</th>\n",
       "      <th>Child</th>\n",
       "    </tr>\n",
       "  </thead>\n",
       "  <tbody>\n",
       "    <tr>\n",
       "      <th>7</th>\n",
       "      <td>8</td>\n",
       "      <td>False</td>\n",
       "      <td>3</td>\n",
       "      <td>name is hidden</td>\n",
       "      <td>male</td>\n",
       "      <td>2</td>\n",
       "      <td>3</td>\n",
       "      <td>1</td>\n",
       "      <td>349909</td>\n",
       "      <td>21.0750</td>\n",
       "      <td>NaN</td>\n",
       "      <td>Southampton</td>\n",
       "      <td>True</td>\n",
       "    </tr>\n",
       "    <tr>\n",
       "      <th>10</th>\n",
       "      <td>11</td>\n",
       "      <td>True</td>\n",
       "      <td>3</td>\n",
       "      <td>name is hidden</td>\n",
       "      <td>female</td>\n",
       "      <td>4</td>\n",
       "      <td>1</td>\n",
       "      <td>1</td>\n",
       "      <td>PP 9549</td>\n",
       "      <td>16.7000</td>\n",
       "      <td>G6</td>\n",
       "      <td>Southampton</td>\n",
       "      <td>True</td>\n",
       "    </tr>\n",
       "    <tr>\n",
       "      <th>16</th>\n",
       "      <td>17</td>\n",
       "      <td>False</td>\n",
       "      <td>3</td>\n",
       "      <td>name is hidden</td>\n",
       "      <td>male</td>\n",
       "      <td>2</td>\n",
       "      <td>4</td>\n",
       "      <td>1</td>\n",
       "      <td>382652</td>\n",
       "      <td>29.1250</td>\n",
       "      <td>NaN</td>\n",
       "      <td>Queenstown</td>\n",
       "      <td>True</td>\n",
       "    </tr>\n",
       "    <tr>\n",
       "      <th>24</th>\n",
       "      <td>25</td>\n",
       "      <td>False</td>\n",
       "      <td>3</td>\n",
       "      <td>name is hidden</td>\n",
       "      <td>female</td>\n",
       "      <td>8</td>\n",
       "      <td>3</td>\n",
       "      <td>1</td>\n",
       "      <td>349909</td>\n",
       "      <td>21.0750</td>\n",
       "      <td>NaN</td>\n",
       "      <td>Southampton</td>\n",
       "      <td>True</td>\n",
       "    </tr>\n",
       "    <tr>\n",
       "      <th>43</th>\n",
       "      <td>44</td>\n",
       "      <td>True</td>\n",
       "      <td>2</td>\n",
       "      <td>name is hidden</td>\n",
       "      <td>female</td>\n",
       "      <td>3</td>\n",
       "      <td>1</td>\n",
       "      <td>2</td>\n",
       "      <td>SC/Paris 2123</td>\n",
       "      <td>41.5792</td>\n",
       "      <td>NaN</td>\n",
       "      <td>Cherbourg</td>\n",
       "      <td>True</td>\n",
       "    </tr>\n",
       "  </tbody>\n",
       "</table>\n",
       "</div>"
      ],
      "text/plain": [
       "    PassengerId Survived  Pclass            Name     Sex  Age  SibSp  Parch  \\\n",
       "7             8    False       3  name is hidden    male    2      3      1   \n",
       "10           11     True       3  name is hidden  female    4      1      1   \n",
       "16           17    False       3  name is hidden    male    2      4      1   \n",
       "24           25    False       3  name is hidden  female    8      3      1   \n",
       "43           44     True       2  name is hidden  female    3      1      2   \n",
       "\n",
       "           Ticket     Fare Cabin     Embarked Child  \n",
       "7          349909  21.0750   NaN  Southampton  True  \n",
       "10        PP 9549  16.7000    G6  Southampton  True  \n",
       "16         382652  29.1250   NaN   Queenstown  True  \n",
       "24         349909  21.0750   NaN  Southampton  True  \n",
       "43  SC/Paris 2123  41.5792   NaN    Cherbourg  True  "
      ]
     },
     "execution_count": 18,
     "metadata": {},
     "output_type": "execute_result"
    }
   ],
   "source": [
    "titanic_df_children = titanic_df[titanic_df['Child']]\n",
    "titanic_df_children.iloc[:5]"
   ]
  },
  {
   "cell_type": "code",
   "execution_count": 19,
   "metadata": {
    "collapsed": false
   },
   "outputs": [],
   "source": [
    "#define a function to reverse booleans\n",
    "#it will be needed to filter fatalities and non-children\n",
    "#(there is probably a more elegant way to do this???)\n",
    "def reverse(b):\n",
    "    return not b"
   ]
  },
  {
   "cell_type": "markdown",
   "metadata": {},
   "source": [
    "**1. What percentage of the sample were children?**"
   ]
  },
  {
   "cell_type": "code",
   "execution_count": 20,
   "metadata": {
    "collapsed": false
   },
   "outputs": [
    {
     "data": {
      "text/plain": [
       "<matplotlib.text.Text at 0x97e2518>"
      ]
     },
     "execution_count": 20,
     "metadata": {},
     "output_type": "execute_result"
    },
    {
     "data": {
      "image/png": "[encoded data removed]",
      "text/plain": [
       "<matplotlib.figure.Figure at 0x954d940>"
      ]
     },
     "metadata": {},
     "output_type": "display_data"
    }
   ],
   "source": [
    "#show age distribuition in a histogram, showing the divide between children and non-children\n",
    "agebins = [0,7,14,21,28,35,42,49,56,63,70,77,84,91]\n",
    "titanic_df[titanic_df['Child']]['Age'].hist(bins=agebins,alpha = 0.7, color = 'y')\n",
    "titanic_df[titanic_df['Child'].apply(reverse)]['Age'].hist(bins=agebins,alpha = 0.7, color = 'b')\n",
    "plot.axvline(14, linestyle='dashed', linewidth=2) #'Child' treshold\n",
    "plot.title('Age Distribuition')\n",
    "plot.ylabel('Number of Passegers')\n",
    "plot.xlabel('Passenger Age')"
   ]
  },
  {
   "cell_type": "code",
   "execution_count": 21,
   "metadata": {
    "collapsed": false
   },
   "outputs": [
    {
     "data": {
      "text/plain": [
       "Child\n",
       "False    643\n",
       "True      71\n",
       "Name: Child, dtype: int64"
      ]
     },
     "execution_count": 21,
     "metadata": {},
     "output_type": "execute_result"
    }
   ],
   "source": [
    "#count children and non children\n",
    "titanic_df.groupby('Child')['Child'].count()"
   ]
  },
  {
   "cell_type": "code",
   "execution_count": 22,
   "metadata": {
    "collapsed": false
   },
   "outputs": [
    {
     "data": {
      "text/plain": [
       "(-1.0605012975640129,\n",
       " 1.0028716982272132,\n",
       " -1.0068985970780078,\n",
       " 1.0055829808995851)"
      ]
     },
     "execution_count": 22,
     "metadata": {},
     "output_type": "execute_result"
    },
    {
     "data": {
      "image/png": "[encoded data removed]",
      "text/plain": [
       "<matplotlib.figure.Figure at 0x954d978>"
      ]
     },
     "metadata": {},
     "output_type": "display_data"
    }
   ],
   "source": [
    "#show information above in a pie chart\n",
    "ages_pie = [titanic_df.groupby('Child')['Child'].count().iloc[1],titanic_df.groupby('Child')['Child'].count().iloc[0]]\n",
    "detach = (0.2,0)\n",
    "plot.pie(ages_pie, explode = detach, shadow = True, startangle = 120, autopct='%1.1f%%', colors = ['y', 'b'], labels = ['Children', 'Non-Children'])\n",
    "plot.axis('equal')\n",
    "\n"
   ]
  },
  {
   "cell_type": "markdown",
   "metadata": {},
   "source": [
    "**2.Did children have higher chances of survival comparing with non-children?**"
   ]
  },
  {
   "cell_type": "code",
   "execution_count": 23,
   "metadata": {
    "collapsed": false
   },
   "outputs": [
    {
     "data": {
      "text/plain": [
       "0.4061624649859944"
      ]
     },
     "execution_count": 23,
     "metadata": {},
     "output_type": "execute_result"
    }
   ],
   "source": [
    "#compute the overall survival rate\n",
    "#the survival rate is equal to the mean of 'Survived'\n",
    "titanic_df['Survived'].mean()"
   ]
  },
  {
   "cell_type": "code",
   "execution_count": 24,
   "metadata": {
    "collapsed": false
   },
   "outputs": [
    {
     "data": {
      "text/html": [
       "<div>\n",
       "<table border=\"1\" class=\"dataframe\">\n",
       "  <thead>\n",
       "    <tr style=\"text-align: right;\">\n",
       "      <th></th>\n",
       "      <th>Child</th>\n",
       "      <th>Survived</th>\n",
       "    </tr>\n",
       "  </thead>\n",
       "  <tbody>\n",
       "    <tr>\n",
       "      <th>0</th>\n",
       "      <td>False</td>\n",
       "      <td>0.385692</td>\n",
       "    </tr>\n",
       "    <tr>\n",
       "      <th>1</th>\n",
       "      <td>True</td>\n",
       "      <td>0.591549</td>\n",
       "    </tr>\n",
       "  </tbody>\n",
       "</table>\n",
       "</div>"
      ],
      "text/plain": [
       "   Child  Survived\n",
       "0  False  0.385692\n",
       "1   True  0.591549"
      ]
     },
     "execution_count": 24,
     "metadata": {},
     "output_type": "execute_result"
    }
   ],
   "source": [
    "#look into the survival rate for children and non-children\n",
    "#the survival rate is equal to the mean of 'Survived', and grouping by 'Child' will separate the results\n",
    "titanic_df.groupby('Child', as_index = False)['Survived'].mean()"
   ]
  },
  {
   "cell_type": "code",
   "execution_count": 25,
   "metadata": {
    "collapsed": false,
    "scrolled": true
   },
   "outputs": [
    {
     "data": {
      "text/plain": [
       "<matplotlib.legend.Legend at 0xa659f60>"
      ]
     },
     "execution_count": 25,
     "metadata": {},
     "output_type": "execute_result"
    },
    {
     "data": {
      "image/png": "[encoded data removed]",
      "text/plain": [
       "<matplotlib.figure.Figure at 0x9b17828>"
      ]
     },
     "metadata": {},
     "output_type": "display_data"
    }
   ],
   "source": [
    "#histogram of survivor / fatality by age \n",
    "surv = titanic_df['Age'][titanic_df['Survived']]\n",
    "fatal = titanic_df['Age'][titanic_df['Survived'].apply(reverse)]\n",
    "plot.hist([surv, fatal], bins = agebins, color = ['g', 'r'], alpha = 0.6)\n",
    "plot.axvline(14, linestyle='dashed', linewidth=2)\n",
    "plot.title('Distribuition of Age in Survivors, Fatalities')\n",
    "plot.ylabel('Number of Passegers')\n",
    "plot.xlabel('Passenger Age')\n",
    "plot.legend(['Child Line', 'Survived', 'Did Not Survive'])"
   ]
  },
  {
   "cell_type": "code",
   "execution_count": 26,
   "metadata": {
    "collapsed": false
   },
   "outputs": [
    {
     "data": {
      "text/plain": [
       "Survived  Child\n",
       "False     False    395\n",
       "          True      29\n",
       "True      False    248\n",
       "          True      42\n",
       "Name: PassengerId, dtype: int64"
      ]
     },
     "execution_count": 26,
     "metadata": {},
     "output_type": "execute_result"
    }
   ],
   "source": [
    "surv_count = titanic_df.groupby(['Survived','Child'])['PassengerId'].count()\n",
    "surv_count"
   ]
  },
  {
   "cell_type": "code",
   "execution_count": 43,
   "metadata": {
    "collapsed": false
   },
   "outputs": [
    {
     "data": {
      "text/plain": [
       "<matplotlib.legend.Legend at 0x95a5198>"
      ]
     },
     "execution_count": 43,
     "metadata": {},
     "output_type": "execute_result"
    },
    {
     "data": {
      "image/png": "[encoded data removed]",
      "text/plain": [
       "<matplotlib.figure.Figure at 0x9d00f28>"
      ]
     },
     "metadata": {},
     "output_type": "display_data"
    }
   ],
   "source": [
    "import matplotlib.patches as mpatches\n",
    "\n",
    "surv_count = titanic_df.groupby(['Child','Survived'])['PassengerId'].count()\n",
    "labels = ['Non-children', 'Children']\n",
    "plot.bar([2,3,5,6], surv_count, color = ['r', 'g', 'r', 'g'], alpha = 0.7)\n",
    "plot.xticks([3,6], labels)\n",
    "plot.yticks(surv_count,surv_count)\n",
    "plot.ylabel('Number of Passengers')\n",
    "plot.title('Survival and Fatality Count in Children, Non-children')\n",
    "\n",
    "red_patch = mpatches.Patch(color='red', alpha = 0.7, label='Fatalities')\n",
    "green_patch = mpatches.Patch(color='green', alpha = 0.7, label='Survivors')\n",
    "plot.legend(handles=[green_patch, red_patch])"
   ]
  },
  {
   "cell_type": "code",
   "execution_count": 28,
   "metadata": {
    "collapsed": false
   },
   "outputs": [
    {
     "data": {
      "text/plain": [
       "<matplotlib.text.Text at 0xa905e10>"
      ]
     },
     "execution_count": 28,
     "metadata": {},
     "output_type": "execute_result"
    },
    {
     "data": {
      "image/png": "[encoded data removed]",
      "text/plain": [
       "<matplotlib.figure.Figure at 0x9b04f60>"
      ]
     },
     "metadata": {},
     "output_type": "display_data"
    }
   ],
   "source": [
    "surv_perc = titanic_df.groupby('Child')['Survived'].mean()\n",
    "labels = ['Non-children', 'Children']\n",
    "plot.bar([1,2], surv_perc, color = ['b', 'y'], alpha = 0.7, align = 'center')\n",
    "plot.xticks([1,2], labels)\n",
    "plot.yticks(surv_perc,surv_perc)\n",
    "plot.title('Survival Rate in Non-Children, Children')\n",
    "plot.ylabel('Survival %')"
   ]
  },
  {
   "cell_type": "markdown",
   "metadata": {},
   "source": [
    "In our sample, it seems that the survival rate is higher among children, which was expected. They compute at 40.62% overall, 38.57% for non-children, and 59.16% for children in the sample. A test is performed in the last section to answer this question in a more rigorous way."
   ]
  },
  {
   "cell_type": "markdown",
   "metadata": {},
   "source": [
    "**3.How were children distributed in terms of class and gender?**"
   ]
  },
  {
   "cell_type": "code",
   "execution_count": 29,
   "metadata": {
    "collapsed": false
   },
   "outputs": [
    {
     "data": {
      "text/plain": [
       "<matplotlib.text.Text at 0xaba5080>"
      ]
     },
     "execution_count": 29,
     "metadata": {},
     "output_type": "execute_result"
    },
    {
     "data": {
      "image/png": "[encoded data removed]",
      "text/plain": [
       "<matplotlib.figure.Figure at 0xa920048>"
      ]
     },
     "metadata": {},
     "output_type": "display_data"
    }
   ],
   "source": [
    "class_dist1 = titanic_df[titanic_df['Child']].groupby('Pclass', as_index = False)['PassengerId'].count()\n",
    "\n",
    "l = ['1st Class', '2nd Class', '3rd Class']\n",
    "plot.bar(class_dist1['Pclass'], class_dist1['PassengerId'],  align='center', alpha=0.6, color = ['y'])\n",
    "plot.xticks(class_dist1['Pclass'], l)\n",
    "plot.yticks(class_dist1['PassengerId'], class_dist1['PassengerId'])\n",
    "plot.ylabel('Number of Children')\n",
    "plot.title('Titanic Children by Passenger Class')"
   ]
  },
  {
   "cell_type": "code",
   "execution_count": 30,
   "metadata": {
    "collapsed": false
   },
   "outputs": [
    {
     "data": {
      "text/html": [
       "<div>\n",
       "<table border=\"1\" class=\"dataframe\">\n",
       "  <thead>\n",
       "    <tr style=\"text-align: right;\">\n",
       "      <th></th>\n",
       "      <th>Sex</th>\n",
       "      <th>PassengerId</th>\n",
       "    </tr>\n",
       "  </thead>\n",
       "  <tbody>\n",
       "    <tr>\n",
       "      <th>0</th>\n",
       "      <td>female</td>\n",
       "      <td>34</td>\n",
       "    </tr>\n",
       "    <tr>\n",
       "      <th>1</th>\n",
       "      <td>male</td>\n",
       "      <td>37</td>\n",
       "    </tr>\n",
       "  </tbody>\n",
       "</table>\n",
       "</div>"
      ],
      "text/plain": [
       "      Sex  PassengerId\n",
       "0  female           34\n",
       "1    male           37"
      ]
     },
     "execution_count": 30,
     "metadata": {},
     "output_type": "execute_result"
    }
   ],
   "source": [
    "#distribuition by gender in children\n",
    "gender_dist = titanic_df[titanic_df['Child']].groupby('Sex', as_index= False)['PassengerId'].count()\n",
    "gender_dist"
   ]
  },
  {
   "cell_type": "code",
   "execution_count": 31,
   "metadata": {
    "collapsed": false,
    "scrolled": true
   },
   "outputs": [
    {
     "data": {
      "text/plain": [
       "<matplotlib.text.Text at 0xad70c50>"
      ]
     },
     "execution_count": 31,
     "metadata": {},
     "output_type": "execute_result"
    },
    {
     "data": {
      "image/png": "[encoded data removed]",
      "text/plain": [
       "<matplotlib.figure.Figure at 0xaa35400>"
      ]
     },
     "metadata": {},
     "output_type": "display_data"
    }
   ],
   "source": [
    "dist2 = titanic_df[titanic_df['Child']].groupby('Sex', as_index = False)['PassengerId'].count()\n",
    "l = ['Female', 'Male']\n",
    "plot.bar([1,2], dist2['PassengerId'],  align='center', alpha=0.6, color = ['y'])\n",
    "plot.xticks([1,2], l)\n",
    "plot.yticks(dist2['PassengerId'], dist2['PassengerId'])\n",
    "plot.ylabel('Number of Children')\n",
    "plot.title('Titanic Children by Gender')"
   ]
  },
  {
   "cell_type": "markdown",
   "metadata": {},
   "source": [
    "**4.Among children, was gender correlated to fatality rates?**"
   ]
  },
  {
   "cell_type": "code",
   "execution_count": 32,
   "metadata": {
    "collapsed": false
   },
   "outputs": [
    {
     "data": {
      "text/html": [
       "<div>\n",
       "<table border=\"1\" class=\"dataframe\">\n",
       "  <thead>\n",
       "    <tr style=\"text-align: right;\">\n",
       "      <th></th>\n",
       "      <th>Sex</th>\n",
       "      <th>Survived</th>\n",
       "    </tr>\n",
       "  </thead>\n",
       "  <tbody>\n",
       "    <tr>\n",
       "      <th>0</th>\n",
       "      <td>female</td>\n",
       "      <td>0.617647</td>\n",
       "    </tr>\n",
       "    <tr>\n",
       "      <th>1</th>\n",
       "      <td>male</td>\n",
       "      <td>0.567568</td>\n",
       "    </tr>\n",
       "  </tbody>\n",
       "</table>\n",
       "</div>"
      ],
      "text/plain": [
       "      Sex  Survived\n",
       "0  female  0.617647\n",
       "1    male  0.567568"
      ]
     },
     "execution_count": 32,
     "metadata": {},
     "output_type": "execute_result"
    }
   ],
   "source": [
    "#look at rates for both genders\n",
    "titanic_df[titanic_df['Child']].groupby('Sex', as_index = False)['Survived'].mean()"
   ]
  },
  {
   "cell_type": "code",
   "execution_count": 33,
   "metadata": {
    "collapsed": false
   },
   "outputs": [
    {
     "data": {
      "text/plain": [
       "<matplotlib.text.Text at 0xaf5e6d8>"
      ]
     },
     "execution_count": 33,
     "metadata": {},
     "output_type": "execute_result"
    },
    {
     "data": {
      "image/png": "[encoded data removed]",
      "text/plain": [
       "<matplotlib.figure.Figure at 0xad3c828>"
      ]
     },
     "metadata": {},
     "output_type": "display_data"
    }
   ],
   "source": [
    "data_1 = titanic_df[titanic_df['Child']].groupby('Sex', as_index = False)['Survived'].mean().apply(lambda x: x*100)\n",
    "l = ['Female', 'Male']\n",
    "plot.bar([1,2], data_1['Survived'],  align='center', alpha=0.6, color = ['y'])\n",
    "plot.xticks([1,2], l)\n",
    "plot.yticks(data_1['Survived'], data_1['Survived'])\n",
    "plot.ylabel('Survival %')\n",
    "plot.title('Children Survival Rates by Gender')"
   ]
  },
  {
   "cell_type": "markdown",
   "metadata": {},
   "source": [
    "As shown above, the survival rate in female children in the sample is 61.77% and the rate for male children in the sample is 56.76%. Although the female rate is slightly higher, on the surface of it, it doesn't seem like there is a statistically significant correlation. In order to assert that more scientifically, a statistical test will be performed in the last section of the text."
   ]
  },
  {
   "cell_type": "markdown",
   "metadata": {},
   "source": [
    "**5.Is the (now famous) correlation between passenger class and survival observed in the children subset?**"
   ]
  },
  {
   "cell_type": "code",
   "execution_count": 34,
   "metadata": {
    "collapsed": false
   },
   "outputs": [
    {
     "data": {
      "text/html": [
       "<div>\n",
       "<table border=\"1\" class=\"dataframe\">\n",
       "  <thead>\n",
       "    <tr style=\"text-align: right;\">\n",
       "      <th></th>\n",
       "      <th>Pclass</th>\n",
       "      <th>Survived</th>\n",
       "    </tr>\n",
       "  </thead>\n",
       "  <tbody>\n",
       "    <tr>\n",
       "      <th>0</th>\n",
       "      <td>1</td>\n",
       "      <td>0.750000</td>\n",
       "    </tr>\n",
       "    <tr>\n",
       "      <th>1</th>\n",
       "      <td>2</td>\n",
       "      <td>1.000000</td>\n",
       "    </tr>\n",
       "    <tr>\n",
       "      <th>2</th>\n",
       "      <td>3</td>\n",
       "      <td>0.428571</td>\n",
       "    </tr>\n",
       "  </tbody>\n",
       "</table>\n",
       "</div>"
      ],
      "text/plain": [
       "   Pclass  Survived\n",
       "0       1  0.750000\n",
       "1       2  1.000000\n",
       "2       3  0.428571"
      ]
     },
     "execution_count": 34,
     "metadata": {},
     "output_type": "execute_result"
    }
   ],
   "source": [
    "#show dataframe of children survival grouped by class\n",
    "children_survival_by_class = titanic_df[titanic_df['Child']].groupby('Pclass', as_index = False)['Survived'].mean()\n",
    "children_survival_by_class"
   ]
  },
  {
   "cell_type": "code",
   "execution_count": 35,
   "metadata": {
    "collapsed": false
   },
   "outputs": [
    {
     "data": {
      "text/plain": [
       "<matplotlib.text.Text at 0xb0f4cc0>"
      ]
     },
     "execution_count": 35,
     "metadata": {},
     "output_type": "execute_result"
    },
    {
     "data": {
      "image/png": "[encoded data removed]",
      "text/plain": [
       "<matplotlib.figure.Figure at 0xa679ac8>"
      ]
     },
     "metadata": {},
     "output_type": "display_data"
    }
   ],
   "source": [
    "#visualization of above\n",
    "perc = children_survival_by_class['Survived']*100\n",
    "l = ['1st Class', '2nd Class', '3rd Class']\n",
    "plot.bar(children_survival_by_class['Pclass'], perc,  align='center', alpha=0.6, color ='y')\n",
    "plot.xticks(children_survival_by_class['Pclass'], l)\n",
    "plot.yticks(perc, perc)\n",
    "plot.ylabel('Survival %')\n",
    "plot.title('Survival by Passenger Class in Children')"
   ]
  },
  {
   "cell_type": "markdown",
   "metadata": {},
   "source": [
    "There seems so be a correlation between class and survival, even among children, as the survival rate drops several points when in the 3rd class catagory. An actual test will be performed in the next section."
   ]
  },
  {
   "cell_type": "markdown",
   "metadata": {},
   "source": [
    "### Statistical Testing"
   ]
  },
  {
   "cell_type": "markdown",
   "metadata": {},
   "source": [
    "The integrity of these tests are predicated on the sample analyzed being a random sample of the Titanic passenger population, which is being assumed here. If the sample is a random sample of the population, then the subset of children in the sample is also a random sample of the subset of children in the population. This is where is it also assumed that the missing ages, that were removed, did not affect the random quality of the sample. This is a considerable assumption to make, and it does weaken the results. Further examination is encouraged, to include an investigation of the artifact that produced the missing data, thus creating the ability to properly counter it. This is beyond the scope of this work.\n",
    "\n",
    "\n",
    "I understand there are library functions to calculate chi-square statistics. In this case, a choice was made to code new functions, as it seemed simpler than ensuring the library ones are indeed the ones should be used in this case. As will be seen below, they run with acceptable speed and linear algebra was favored over loops."
   ]
  },
  {
   "cell_type": "code",
   "execution_count": 36,
   "metadata": {
    "collapsed": false
   },
   "outputs": [],
   "source": [
    "#functions in this cell will work for computation of Independence Chi Square Tests with two categorical variables\n",
    "#they will numpy arrays for ease of use of lienear algebra operations \n",
    "#some said operations with numpy were referenced from this page for language and syntax\n",
    "\n",
    "#takes a table in numpy array form, returns table of same dimention with corresponding expected values for independence\n",
    "def expected(array):\n",
    "    total = array.sum()\n",
    "    v_total = array.sum(axis=0)\n",
    "    h_total = array.sum(axis=1)\n",
    "    return (np.outer(h_total, v_total))/total\n",
    "\n",
    "#takes a table in numpy array form, returns table of same dimention with correponding normalized distances to expectation\n",
    "#that is, returns ((O-E)^2)/E for each value in array\n",
    "def normdist(array):\n",
    "    step1 = array - expected(array)\n",
    "    step2 = step1*step1\n",
    "    return step2 / expected(array)\n",
    "\n",
    "#takes a chi-table, returns list [chi-square value, degrees of freedom] finally =]\n",
    "def chi_stat(array):\n",
    "    chi_square_value = normdist(array).sum()\n",
    "    degrees_of_freedom = (array.shape[0] - 1)*(array.shape[1] - 1)\n",
    "    return [chi_square_value, degrees_of_freedom]"
   ]
  },
  {
   "cell_type": "markdown",
   "metadata": {},
   "source": [
    "**Testing question 2**"
   ]
  },
  {
   "cell_type": "markdown",
   "metadata": {},
   "source": [
    "The null hypothesis in this case is survival did not depend on the categorical variable child. (Using, of course, the definition of child delineated bove, that is, person under 14 years of age.) An Independence Chi-square test will be performed, for the categorical variables survival and child. Below a table will show the counts for both. "
   ]
  },
  {
   "cell_type": "code",
   "execution_count": 37,
   "metadata": {
    "collapsed": false
   },
   "outputs": [
    {
     "data": {
      "text/html": [
       "<div>\n",
       "<table border=\"1\" class=\"dataframe\">\n",
       "  <thead>\n",
       "    <tr style=\"text-align: right;\">\n",
       "      <th></th>\n",
       "      <th>fatalities</th>\n",
       "      <th>survivers</th>\n",
       "    </tr>\n",
       "  </thead>\n",
       "  <tbody>\n",
       "    <tr>\n",
       "      <th>0</th>\n",
       "      <td>395</td>\n",
       "      <td>248</td>\n",
       "    </tr>\n",
       "    <tr>\n",
       "      <th>1</th>\n",
       "      <td>29</td>\n",
       "      <td>42</td>\n",
       "    </tr>\n",
       "  </tbody>\n",
       "</table>\n",
       "</div>"
      ],
      "text/plain": [
       "   fatalities  survivers\n",
       "0         395        248\n",
       "1          29         42"
      ]
     },
     "execution_count": 37,
     "metadata": {},
     "output_type": "execute_result"
    }
   ],
   "source": [
    "#count children / non children that survived\n",
    "table = titanic_df[titanic_df['Survived']].groupby('Child', as_index = False)['PassengerId'].count()\n",
    "tablea = table.copy()\n",
    "\n",
    "#count children / non-children that did not survive\n",
    "table = titanic_df[titanic_df['Survived'].apply(reverse)].groupby('Child', as_index = False)['PassengerId'].count()\n",
    "tableb = table.copy()\n",
    "\n",
    "#combine information in a chi-table\n",
    "surv_child_non = tablea['PassengerId']\n",
    "fatal_child_non = tableb['PassengerId']\n",
    "chi_surv_child_non_df = pd.DataFrame({'survivers':surv_child_non, 'fatalities': fatal_child_non})\n",
    "chi_surv_child_non_df"
   ]
  },
  {
   "cell_type": "code",
   "execution_count": 38,
   "metadata": {
    "collapsed": false
   },
   "outputs": [
    {
     "data": {
      "text/plain": [
       "[11.234038735611614, 1L]"
      ]
     },
     "execution_count": 38,
     "metadata": {},
     "output_type": "execute_result"
    }
   ],
   "source": [
    "#parse as numpy array float type, apply chi_stat\n",
    "chi_surv_child_non_np = np.array(chi_surv_child_non_df.applymap(float)) \n",
    "chi_stat(chi_surv_child_non_np)"
   ]
  },
  {
   "cell_type": "markdown",
   "metadata": {},
   "source": [
    "The critical value for this test with 1 degree of freedom is 3.841 for a significance of 0.05. Since our test statistic computed at 11.234, we may therefore conclude that the variables are, indeed, correlated. One might say that the answer to the questions is, then, is \"**yes, children had a higher chance of survival, comparing with non-children**\". A word of caution is uttered here, however, against any implication of causality. "
   ]
  },
  {
   "cell_type": "markdown",
   "metadata": {},
   "source": [
    "**Testing question 4**"
   ]
  },
  {
   "cell_type": "markdown",
   "metadata": {},
   "source": [
    "The null hypothesis now is \"among children in the Titanic, survival was independent of gender\". An Independence Chi-square test will be performed, for the categorical variables survival and gender. Below a table will show the counts for both."
   ]
  },
  {
   "cell_type": "code",
   "execution_count": 39,
   "metadata": {
    "collapsed": false
   },
   "outputs": [
    {
     "name": "stderr",
     "output_type": "stream",
     "text": [
      "C:\\Users\\Anna\\Anaconda2\\lib\\site-packages\\pandas\\core\\frame.py:1997: UserWarning: Boolean Series key will be reindexed to match DataFrame index.\n",
      "  \"DataFrame index.\", UserWarning)\n"
     ]
    },
    {
     "data": {
      "text/html": [
       "<div>\n",
       "<table border=\"1\" class=\"dataframe\">\n",
       "  <thead>\n",
       "    <tr style=\"text-align: right;\">\n",
       "      <th></th>\n",
       "      <th>fatalities</th>\n",
       "      <th>survivers</th>\n",
       "    </tr>\n",
       "  </thead>\n",
       "  <tbody>\n",
       "    <tr>\n",
       "      <th>0</th>\n",
       "      <td>13</td>\n",
       "      <td>21</td>\n",
       "    </tr>\n",
       "    <tr>\n",
       "      <th>1</th>\n",
       "      <td>16</td>\n",
       "      <td>21</td>\n",
       "    </tr>\n",
       "  </tbody>\n",
       "</table>\n",
       "</div>"
      ],
      "text/plain": [
       "   fatalities  survivers\n",
       "0          13         21\n",
       "1          16         21"
      ]
     },
     "execution_count": 39,
     "metadata": {},
     "output_type": "execute_result"
    }
   ],
   "source": [
    "#count male / female children that survived\n",
    "table = titanic_df[titanic_df['Child']][titanic_df['Survived']].groupby('Sex', as_index = False)['PassengerId'].count()\n",
    "table1 = table.copy()\n",
    "\n",
    "#count male / female children that did not survive\n",
    "table = titanic_df[titanic_df['Child']][titanic_df['Survived'].apply(reverse)].groupby('Sex', as_index = False)['PassengerId'].count()\n",
    "table2 = table.copy()\n",
    "\n",
    "#organize information in one dataframe\n",
    "surv_ser = table1['PassengerId']\n",
    "fatal_ser = table2['PassengerId']\n",
    "chi_child_surv_gender_df = pd.DataFrame({'survivers':surv_ser, 'fatalities': fatal_ser})\n",
    "chi_child_surv_gender_df"
   ]
  },
  {
   "cell_type": "code",
   "execution_count": 40,
   "metadata": {
    "collapsed": false
   },
   "outputs": [
    {
     "data": {
      "text/plain": [
       "[0.18391261443999787, 1L]"
      ]
     },
     "execution_count": 40,
     "metadata": {},
     "output_type": "execute_result"
    }
   ],
   "source": [
    "#ports dataframe values to a np array, after ensuring they will be float types\n",
    "chi_child_surv_gender_np = np.array(chi_child_surv_gender_df.applymap(float))\n",
    "\n",
    "#use the function on the gender / survival table\n",
    "chi_stat(chi_child_surv_gender_np)"
   ]
  },
  {
   "cell_type": "markdown",
   "metadata": {},
   "source": [
    "For a significance value of 0.05, with one degree of freedom (as seen above) the critical value is 3.841. The statictic obtained using the code above is 0.1839. This leads to the conclusion that we may not reject the null hypothesis. That is, **to the best of our knowledge, the survival of children in the titanic is not correlated to gender**, or at least not in a statistically significant way. This is preliminary evidence to conclude children of both genders were given equal priority into life saving vessels, although further exmination is necessary."
   ]
  },
  {
   "cell_type": "markdown",
   "metadata": {},
   "source": [
    "**Testing question 5 **"
   ]
  },
  {
   "cell_type": "markdown",
   "metadata": {},
   "source": [
    "A similar analysis will be executed below, this time looking at passenger class and the survival among children. The same method as above will be employed to try to reject the null hypothesis \"in children, survival was independent of passenger class\"."
   ]
  },
  {
   "cell_type": "code",
   "execution_count": 41,
   "metadata": {
    "collapsed": false
   },
   "outputs": [
    {
     "data": {
      "text/html": [
       "<div>\n",
       "<table border=\"1\" class=\"dataframe\">\n",
       "  <thead>\n",
       "    <tr style=\"text-align: right;\">\n",
       "      <th></th>\n",
       "      <th>fatalities</th>\n",
       "      <th>survivers</th>\n",
       "    </tr>\n",
       "  </thead>\n",
       "  <tbody>\n",
       "    <tr>\n",
       "      <th>0</th>\n",
       "      <td>1</td>\n",
       "      <td>3</td>\n",
       "    </tr>\n",
       "    <tr>\n",
       "      <th>1</th>\n",
       "      <td>0</td>\n",
       "      <td>18</td>\n",
       "    </tr>\n",
       "    <tr>\n",
       "      <th>2</th>\n",
       "      <td>28</td>\n",
       "      <td>21</td>\n",
       "    </tr>\n",
       "  </tbody>\n",
       "</table>\n",
       "</div>"
      ],
      "text/plain": [
       "   fatalities  survivers\n",
       "0           1          3\n",
       "1           0         18\n",
       "2          28         21"
      ]
     },
     "execution_count": 41,
     "metadata": {},
     "output_type": "execute_result"
    }
   ],
   "source": [
    "#count 1st / 2nd / 3rd class children that survived\n",
    "table = titanic_df[titanic_df['Child']][titanic_df['Survived']].groupby('Pclass')['PassengerId'].count()\n",
    "table3 = table.copy()\n",
    "\n",
    "#count male / female children that did not survive\n",
    "table = titanic_df[titanic_df['Child']][titanic_df['Survived'].apply(reverse)].groupby('Pclass')['PassengerId'].count()\n",
    "table4 = table.copy()\n",
    "\n",
    "#organize information in one dataframe\n",
    "chi_child_surv_class_df = pd.DataFrame({'survivers':[3,18,21], 'fatalities':[1,0,28]})\n",
    "chi_child_surv_class_df\n",
    "\n",
    "#I \"cheated\" a little bit here, as had an issue with the indexation, because the 0 for second class fatlity wouldn't show\n",
    "#since the data is small, I was able to look at table 3 and table 4 and simply copy\n",
    "#I am open to suggestions on how to fix this\n",
    "#the results should be intact, however "
   ]
  },
  {
   "cell_type": "code",
   "execution_count": 42,
   "metadata": {
    "collapsed": false
   },
   "outputs": [
    {
     "data": {
      "text/plain": [
       "[18.230911330049267, 2L]"
      ]
     },
     "execution_count": 42,
     "metadata": {},
     "output_type": "execute_result"
    }
   ],
   "source": [
    "#ports dataframe values to a np array, after ensuring they will be float types\n",
    "chi_child_surv_class_np = np.array(chi_child_surv_class_df.applymap(float))\n",
    "\n",
    "#use the function on the gender / survival table\n",
    "chi_stat(chi_child_surv_class_np)"
   ]
  },
  {
   "cell_type": "markdown",
   "metadata": {},
   "source": [
    "The critical value in this case is 5.99, for 2 degrees of freedom. Since the code yielded a statitic test value of 18.23, the null hypothesis can be rejected and we may therefore conclude that **in children, survival was correlated to passenger class**. Once more, a word of caution regarding any causality implication."
   ]
  },
  {
   "cell_type": "markdown",
   "metadata": {},
   "source": [
    "### Conclusion\n",
    "\n",
    "The vessel at the center of one of the most famous disasters of modern era was most definitely carrying children, who were distributed across all three passenger classes, and both genders. \n",
    "Succinctly, according to the data examined, children in the Titanic were overall more likely to survive. Considering the survival of children aboard the vessel against the categorical variables gender and class, the data supports class being correlated to survival, but not gender.\n",
    "Further examination and different testing would be required to assert any causality."
   ]
  },
  {
   "cell_type": "markdown",
   "metadata": {},
   "source": [
    "### ** References **"
   ]
  },
  {
   "cell_type": "markdown",
   "metadata": {},
   "source": [
    "Web pages:\n",
    "\n",
    "1. http://www.bio.miami.edu/dana/pix/chisquare.gif\n",
    "\n",
    "2. http://docs.scipy.org/doc/numpy-1.10.1/reference/generated/numpy.outer.html#numpy.outer\n",
    "\n",
    "3. http://pandas.pydata.org/pandas-docs/stable/visualization.html\n",
    "\n",
    "4. https://discussions.udacity.com/t/help-with-barplot-legend/164455"
   ]
  },
  {
   "cell_type": "code",
   "execution_count": null,
   "metadata": {
    "collapsed": true
   },
   "outputs": [],
   "source": []
  }
 ],
 "metadata": {
  "kernelspec": {
   "display_name": "Python 2",
   "language": "python",
   "name": "python2"
  },
  "language_info": {
   "codemirror_mode": {
    "name": "ipython",
    "version": 2
   },
   "file_extension": ".py",
   "mimetype": "text/x-python",
   "name": "python",
   "nbconvert_exporter": "python",
   "pygments_lexer": "ipython2",
   "version": "2.7.11"
  }
 },
 "nbformat": 4,
 "nbformat_minor": 0
}
